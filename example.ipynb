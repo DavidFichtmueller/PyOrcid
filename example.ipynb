{
 "cells": [
  {
   "cell_type": "code",
   "execution_count": null,
   "metadata": {},
   "outputs": [],
   "source": [
    "from src import pyorcid"
   ]
  },
  {
   "cell_type": "markdown",
   "metadata": {},
   "source": [
    "#### ORCID Developer Authentication\n",
    "\n",
    "To authenticate as a developer for ORCID integration, follow these steps:\n",
    "\n",
    "1. **Create an ORCID Account:** If you don't already have an ORCID account, you'll need to create one. Visit the ORCID website and sign up for an account.\n",
    "\n",
    "2. **Access Developer Tools:** Once you've logged into your ORCID account, navigate to \"Your Profile.\" From there, select \"Developer Tools.\"\n",
    "\n",
    "3. **Obtain Client Credentials:** In the Developer Tools section, you'll be able to generate your developer credentials:\n",
    "   - **Client ID:** You will receive a `client_id` that uniquely identifies your application.\n",
    "   - **Client Secret:** You'll also be provided with a `client_secret` for secure communication.\n",
    "\n",
    "4. **Register Redirect URI:** Register a `redirect_uri` for your application. This URI is where users will be redirected after authorizing your application's access to their ORCID data. Make sure to specify these URIs in advance to prevent errors during integration. You can use your GitHub repository URL or any other URL under your control as the `redirect_uri`.\n",
    "\n",
    "With these developer credentials and the registered `redirect_uri`, you'll be ready to proceed with your ORCID integration.\n",
    "\n",
    "Access token does not expire until a very long time (20 years). So, it doesn't make sense to run OrcidAuthentication each time. Client details (`client_id`, `client_secret`), `redirect_uri`, `access_token` are auto-stored in \".env\" file.\n"
   ]
  },
  {
   "cell_type": "code",
   "execution_count": null,
   "metadata": {},
   "outputs": [],
   "source": [
    "# Load environment variables from .env\n",
    "pyorcid.OrcidAuthentication(client_id=\"APP-xxxxxxxx\",client_secret=\"xx-xx-xxxx-xxx\",redirect_uri=\"https://github.com\")\n"
   ]
  },
  {
   "cell_type": "markdown",
   "metadata": {},
   "source": [
    "#### Read/Access ORCID profile through orcid_id"
   ]
  },
  {
   "cell_type": "code",
   "execution_count": null,
   "metadata": {},
   "outputs": [],
   "source": [
    "from src import pyorcid\n",
    "orcid_id = 'xxxx-xxxx-xxxx-xxxx'\n",
    "orcid = pyorcid.Orcid(orcid_id=orcid_id)\n",
    "orcid.__dir__()"
   ]
  },
  {
   "cell_type": "markdown",
   "metadata": {},
   "source": [
    "##### Read/Access various sections of orcid profile"
   ]
  },
  {
   "cell_type": "code",
   "execution_count": null,
   "metadata": {},
   "outputs": [],
   "source": [
    "record_data = orcid.record()\n",
    "works_data = orcid.works()\n",
    "fundings_data = orcid.fundings()"
   ]
  },
  {
   "cell_type": "code",
   "execution_count": null,
   "metadata": {},
   "outputs": [],
   "source": [
    "for key,value in fundings_data.items():\n",
    "    print(key,value)"
   ]
  },
  {
   "cell_type": "code",
   "execution_count": null,
   "metadata": {},
   "outputs": [],
   "source": []
  }
 ],
 "metadata": {
  "kernelspec": {
   "display_name": "myenv",
   "language": "python",
   "name": "python3"
  },
  "language_info": {
   "codemirror_mode": {
    "name": "ipython",
    "version": 3
   },
   "file_extension": ".py",
   "mimetype": "text/x-python",
   "name": "python",
   "nbconvert_exporter": "python",
   "pygments_lexer": "ipython3",
   "version": "3.10.9"
  },
  "orig_nbformat": 4
 },
 "nbformat": 4,
 "nbformat_minor": 2
}
