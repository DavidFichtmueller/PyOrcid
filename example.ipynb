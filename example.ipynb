{
 "cells": [
  {
   "cell_type": "code",
   "execution_count": null,
   "metadata": {},
   "outputs": [],
   "source": [
    "from src import pyorcid"
   ]
  },
  {
   "cell_type": "markdown",
   "metadata": {},
   "source": [
    "## Access Orcid database using the ORCID API"
   ]
  },
  {
   "cell_type": "markdown",
   "metadata": {},
   "source": [
    "### 1. ORCID Developer Registration\n",
    "\n",
    "**Skip this step if you already have details of client ID, client secret and a redirect uri of authorized application**\n",
    "\n",
    "If you need access to other people's orcid profile, register your application and pass along your application details to them (they need to execute step 2 to give you access).\n",
    "\n",
    "To authenticate as a developer for ORCID integration, follow these steps:\n",
    "\n",
    "1. **Create an ORCID Account:** If you don't already have an ORCID account, you'll need to create one. Visit the ORCID website and sign up for an account.\n",
    "\n",
    "2. **Access Developer Tools:** Once you've logged into your ORCID account, navigate to \"Your Profile.\" From there, select \"Developer Tools.\"\n",
    "\n",
    "3. **Obtain Client Credentials:** In the Developer Tools section, you'll be able to generate your developer credentials:\n",
    "   - **Client ID:** You will receive a `client_id` that uniquely identifies your application.\n",
    "   - **Client Secret:** You'll also be provided with a `client_secret` for secure communication.\n",
    "\n",
    "4. **Register Redirect URI:** Register a `redirect_uri` for your application. This URI is where users will be redirected after authorizing your application's access to their ORCID data. Make sure to specify these URIs in advance to prevent errors during integration. You can use your GitHub repository URL or any other URL under your control as the `redirect_uri`.\n",
    "\n",
    "With these developer credentials and the registered `redirect_uri`, you'll be ready to proceed with your ORCID integration.\n"
   ]
  },
  {
   "cell_type": "markdown",
   "metadata": {},
   "source": [
    "### 2. Authenticate application\n",
    "\n",
    "Getting an access-token depends on whether a method/scope require user authorization.\n",
    "\n",
    "##### 1. For reading public-access data of a public profile \n",
    "\n",
    "By executing following code, you will get an access-token to read (publid-access) data of a public profile. This doesn't require user authorization. Don't need to provide any value for redirect_uri."
   ]
  },
  {
   "cell_type": "code",
   "execution_count": null,
   "metadata": {},
   "outputs": [],
   "source": [
    "access_token = pyorcid.OrcidAuthentication(client_id=\"APP-xxxxxxxxxxxx\",client_secret=\"xxxx-xxx-xxxxx-xxx\")"
   ]
  },
  {
   "cell_type": "markdown",
   "metadata": {},
   "source": [
    "##### 2. For Member API or reading limited-access data of public profile\n",
    "By executing following code, the user will be redirected to orcid authorization page. Once the user authorizes your application, they will be redirected to \"redirected_uri\" you registered. After copy/pasting full URL of redirected page (contains special code), access token will be shown in output. Please save it for future use or else the application has to be authorized everytime."
   ]
  },
  {
   "cell_type": "code",
   "execution_count": null,
   "metadata": {},
   "outputs": [],
   "source": [
    "\n",
    "access_token = pyorcid.OrcidAuthentication(client_id=\"APP-xxxxxxxxxxxx\",client_secret=\"xxxx-xxx-xxxxx-xxx\",redirect_uri=\"https://github.com\")\n"
   ]
  },
  {
   "cell_type": "markdown",
   "metadata": {},
   "source": [
    "**Access token does not expire until a very long time (20 years). So, it doesn't make sense to run OrcidAuthentication each time. Just follow below steps to access data, all you need is orcid_id and corresponding access token obtained from above.**\n"
   ]
  },
  {
   "cell_type": "markdown",
   "metadata": {},
   "source": [
    "#### 3. Read/Access ORCID profile data"
   ]
  },
  {
   "cell_type": "code",
   "execution_count": null,
   "metadata": {},
   "outputs": [],
   "source": [
    "from src import pyorcid\n",
    "orcid_id = '0000-0000-0000-0000'\n",
    "orcid = pyorcid.Orcid(orcid_id=orcid_id,orcid_access_token=access_token)\n",
    "# orcid.__dir__()"
   ]
  },
  {
   "cell_type": "markdown",
   "metadata": {},
   "source": [
    "##### Read/Access various sections of orcid profile"
   ]
  },
  {
   "cell_type": "code",
   "execution_count": null,
   "metadata": {},
   "outputs": [],
   "source": [
    "record_data = orcid.record()\n",
    "works_data = orcid.works()\n",
    "fundings_data = orcid.fundings()\n",
    "fundings_data "
   ]
  },
  {
   "cell_type": "code",
   "execution_count": null,
   "metadata": {},
   "outputs": [],
   "source": [
    "for key,value in works_data.items():\n",
    "    print(key,value)"
   ]
  },
  {
   "cell_type": "code",
   "execution_count": null,
   "metadata": {},
   "outputs": [],
   "source": [
    "orcid.record_summary()"
   ]
  },
  {
   "cell_type": "markdown",
   "metadata": {},
   "source": [
    "##### Generate a markdown file with the summary of user profile"
   ]
  },
  {
   "cell_type": "code",
   "execution_count": null,
   "metadata": {},
   "outputs": [],
   "source": [
    "orcid.generate_markdown_file(\"md_generator_example.md\")"
   ]
  },
  {
   "cell_type": "markdown",
   "metadata": {},
   "source": [
    "## Access Orcid database through web-scraping "
   ]
  },
  {
   "cell_type": "markdown",
   "metadata": {},
   "source": [
    "This is an alternative to Orcid API. You can only read the orcid profiles on public-access database. All you need is the Orcid ID of the researchers you wish to retrieve. This is similar to accessing public-access database thorugh the Orcid API.\n",
    "OrcidScrapper can access all methods of Orcid class as it is inherited from it."
   ]
  },
  {
   "cell_type": "code",
   "execution_count": null,
   "metadata": {},
   "outputs": [],
   "source": [
    "from src import pyorcid\n",
    "orcid_id = '0000-0000-0000-0000'\n",
    "orcid = pyorcid.OrcidScrapper(orcid_id=orcid_id)\n",
    "orcid.__dir__()"
   ]
  }
 ],
 "metadata": {
  "kernelspec": {
   "display_name": "myenv",
   "language": "python",
   "name": "python3"
  },
  "language_info": {
   "codemirror_mode": {
    "name": "ipython",
    "version": 3
   },
   "file_extension": ".py",
   "mimetype": "text/x-python",
   "name": "python",
   "nbconvert_exporter": "python",
   "pygments_lexer": "ipython3",
   "version": "3.10.9"
  },
  "orig_nbformat": 4
 },
 "nbformat": 4,
 "nbformat_minor": 2
}
