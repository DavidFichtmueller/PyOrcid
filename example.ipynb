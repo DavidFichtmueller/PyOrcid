{
 "cells": [
  {
   "cell_type": "code",
   "execution_count": null,
   "metadata": {},
   "outputs": [],
   "source": [
    "from src import pyorcid"
   ]
  },
  {
   "cell_type": "markdown",
   "metadata": {},
   "source": [
    "#### ORCID Developer Authentication\n",
    "\n",
    "To authenticate as a developer for ORCID integration, follow these steps:\n",
    "\n",
    "1. **Create an ORCID Account:** If you don't already have an ORCID account, you'll need to create one. Visit the ORCID website and sign up for an account.\n",
    "\n",
    "2. **Access Developer Tools:** Once you've logged into your ORCID account, navigate to \"Your Profile.\" From there, select \"Developer Tools.\"\n",
    "\n",
    "3. **Obtain Client Credentials:** In the Developer Tools section, you'll be able to generate your developer credentials:\n",
    "   - **Client ID:** You will receive a `client_id` that uniquely identifies your application.\n",
    "   - **Client Secret:** You'll also be provided with a `client_secret` for secure communication.\n",
    "\n",
    "4. **Register Redirect URI:** Register a `redirect_uri` for your application. This URI is where users will be redirected after authorizing your application's access to their ORCID data. Make sure to specify these URIs in advance to prevent errors during integration. You can use your GitHub repository URL or any other URL under your control as the `redirect_uri`.\n",
    "\n",
    "With these developer credentials and the registered `redirect_uri`, you'll be ready to proceed with your ORCID integration.\n",
    "\n",
    "Access token does not expire until a very long time (20 years). So, it doesn't make sense to run OrcidAuthentication each time. Client details (`client_id`, `client_secret`), `redirect_uri`, `access_token` are auto-stored in \".env\" file.\n"
   ]
  },
  {
   "cell_type": "code",
   "execution_count": null,
   "metadata": {},
   "outputs": [],
   "source": [
    "# Load environment variables from .env\n",
    "pyorcid.OrcidAuthentication(client_id=\"APP-xxxxxxxxxxxx\",client_secret=\"xxxx-xxx-xxxxx-xxx\",redirect_uri=\"https://github.com\")\n"
   ]
  },
  {
   "cell_type": "markdown",
   "metadata": {},
   "source": [
    "#### Read/Access ORCID profile through orcid_id"
   ]
  },
  {
   "cell_type": "code",
   "execution_count": null,
   "metadata": {},
   "outputs": [],
   "source": [
    "from src import pyorcid\n",
    "orcid_id = '0009-0005-8629-1578'\n",
    "access_token = \"xxxx-xxx-x-x-x-xxxxxx\"\n",
    "orcid = pyorcid.Orcid(orcid_id=orcid_id,orcid_access_token=access_token)\n",
    "# orcid.__dir__()"
   ]
  },
  {
   "cell_type": "markdown",
   "metadata": {},
   "source": [
    "##### Read/Access various sections of orcid profile"
   ]
  },
  {
   "cell_type": "code",
   "execution_count": null,
   "metadata": {},
   "outputs": [],
   "source": [
    "record_data = orcid.record()\n",
    "works_data = orcid.works()\n",
    "fundings_data = orcid.fundings()"
   ]
  },
  {
   "cell_type": "code",
   "execution_count": null,
   "metadata": {},
   "outputs": [],
   "source": [
    "orcid.activities()"
   ]
  },
  {
   "cell_type": "code",
   "execution_count": null,
   "metadata": {},
   "outputs": [],
   "source": [
    "for key,value in works_data.items():\n",
    "    print(key,value)"
   ]
  },
  {
   "cell_type": "code",
   "execution_count": null,
   "metadata": {},
   "outputs": [],
   "source": [
    "orcid.record_summary()"
   ]
  },
  {
   "cell_type": "code",
   "execution_count": null,
   "metadata": {},
   "outputs": [],
   "source": [
    "orcid.generate_markdown_file(\"md_generator_example.md\")"
   ]
  },
  {
   "cell_type": "code",
   "execution_count": 1,
   "metadata": {},
   "outputs": [],
   "source": [
    "from src import pyorcid\n",
    "orcid = pyorcid.Orcid(\"0009-0004-5301-6863\",\"45e7577b-bfc2-4163-a84d-494c05dc50c0\",\"public\")"
   ]
  },
  {
   "cell_type": "code",
   "execution_count": 2,
   "metadata": {},
   "outputs": [
    {
     "data": {
      "text/plain": [
       "([],\n",
       " {'orcid-identifier': {'uri': 'https://orcid.org/0009-0004-5301-6863',\n",
       "   'path': '0009-0004-5301-6863',\n",
       "   'host': 'orcid.org'},\n",
       "  'preferences': {'locale': 'en'},\n",
       "  'history': {'creation-method': 'DIRECT',\n",
       "   'completion-date': None,\n",
       "   'submission-date': {'value': 1692747263585},\n",
       "   'last-modified-date': {'value': 1694208958252},\n",
       "   'claimed': True,\n",
       "   'source': None,\n",
       "   'deactivation-date': None,\n",
       "   'verified-email': True,\n",
       "   'verified-primary-email': True},\n",
       "  'person': {'last-modified-date': None,\n",
       "   'name': {'created-date': {'value': 1692747263843},\n",
       "    'last-modified-date': {'value': 1692747263843},\n",
       "    'given-names': {'value': 'sriram'},\n",
       "    'family-name': None,\n",
       "    'credit-name': None,\n",
       "    'source': None,\n",
       "    'visibility': 'public',\n",
       "    'path': '0009-0004-5301-6863'},\n",
       "   'other-names': {'last-modified-date': None,\n",
       "    'other-name': [],\n",
       "    'path': '/0009-0004-5301-6863/other-names'},\n",
       "   'biography': None,\n",
       "   'researcher-urls': {'last-modified-date': None,\n",
       "    'researcher-url': [],\n",
       "    'path': '/0009-0004-5301-6863/researcher-urls'},\n",
       "   'emails': {'last-modified-date': None,\n",
       "    'email': [],\n",
       "    'path': '/0009-0004-5301-6863/email'},\n",
       "   'addresses': {'last-modified-date': None,\n",
       "    'address': [],\n",
       "    'path': '/0009-0004-5301-6863/address'},\n",
       "   'keywords': {'last-modified-date': None,\n",
       "    'keyword': [],\n",
       "    'path': '/0009-0004-5301-6863/keywords'},\n",
       "   'external-identifiers': {'last-modified-date': None,\n",
       "    'external-identifier': [],\n",
       "    'path': '/0009-0004-5301-6863/external-identifiers'},\n",
       "   'path': '/0009-0004-5301-6863/person'},\n",
       "  'activities-summary': {'last-modified-date': None,\n",
       "   'distinctions': {'last-modified-date': None,\n",
       "    'affiliation-group': [],\n",
       "    'path': '/0009-0004-5301-6863/distinctions'},\n",
       "   'educations': {'last-modified-date': None,\n",
       "    'affiliation-group': [],\n",
       "    'path': '/0009-0004-5301-6863/educations'},\n",
       "   'employments': {'last-modified-date': None,\n",
       "    'affiliation-group': [],\n",
       "    'path': '/0009-0004-5301-6863/employments'},\n",
       "   'fundings': {'last-modified-date': None,\n",
       "    'group': [],\n",
       "    'path': '/0009-0004-5301-6863/fundings'},\n",
       "   'invited-positions': {'last-modified-date': None,\n",
       "    'affiliation-group': [],\n",
       "    'path': '/0009-0004-5301-6863/invited-positions'},\n",
       "   'memberships': {'last-modified-date': None,\n",
       "    'affiliation-group': [],\n",
       "    'path': '/0009-0004-5301-6863/memberships'},\n",
       "   'peer-reviews': {'last-modified-date': None,\n",
       "    'group': [],\n",
       "    'path': '/0009-0004-5301-6863/peer-reviews'},\n",
       "   'qualifications': {'last-modified-date': None,\n",
       "    'affiliation-group': [],\n",
       "    'path': '/0009-0004-5301-6863/qualifications'},\n",
       "   'research-resources': {'last-modified-date': None,\n",
       "    'group': [],\n",
       "    'path': '/0009-0004-5301-6863/research-resources'},\n",
       "   'services': {'last-modified-date': None,\n",
       "    'affiliation-group': [],\n",
       "    'path': '/0009-0004-5301-6863/services'},\n",
       "   'works': {'last-modified-date': None,\n",
       "    'group': [],\n",
       "    'path': '/0009-0004-5301-6863/works'},\n",
       "   'path': '/0009-0004-5301-6863/activities'},\n",
       "  'path': '/0009-0004-5301-6863'})"
      ]
     },
     "execution_count": 2,
     "metadata": {},
     "output_type": "execute_result"
    }
   ],
   "source": [
    "orcid.email()"
   ]
  },
  {
   "cell_type": "code",
   "execution_count": null,
   "metadata": {},
   "outputs": [],
   "source": []
  }
 ],
 "metadata": {
  "kernelspec": {
   "display_name": "myenv",
   "language": "python",
   "name": "python3"
  },
  "language_info": {
   "codemirror_mode": {
    "name": "ipython",
    "version": 3
   },
   "file_extension": ".py",
   "mimetype": "text/x-python",
   "name": "python",
   "nbconvert_exporter": "python",
   "pygments_lexer": "ipython3",
   "version": "3.10.9"
  },
  "orig_nbformat": 4
 },
 "nbformat": 4,
 "nbformat_minor": 2
}
